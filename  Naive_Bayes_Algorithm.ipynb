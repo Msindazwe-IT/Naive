{
 "cells": [
  {
   "cell_type": "markdown",
   "id": "b665afac-6b0f-4188-aa67-63416093876a",
   "metadata": {},
   "source": [
    "NAive Bayes Algorith "
   ]
  },
  {
   "cell_type": "code",
   "execution_count": 3,
   "id": "101284d9-3646-4693-a542-d3b9e8e64640",
   "metadata": {},
   "outputs": [],
   "source": [
    "import pandas as pd\n",
    "from sklearn.preprocessing import LabelEncoder\n",
    "from scipy.stats import norm\n",
    "import numpy as np"
   ]
  },
  {
   "cell_type": "code",
   "execution_count": 4,
   "id": "9786f86b-6aac-4fdf-af22-98904f2d8151",
   "metadata": {},
   "outputs": [],
   "source": [
    "data = {\n",
    "    'Color': ['Red', 'Green', 'Red', 'Green', 'Red', 'Green', 'Red', 'Green', 'Red', 'Green'],\n",
    "    'Size': ['Small', 'Large', 'Large', 'Small', 'Small', 'Large', 'Large', 'Small', 'Small', 'Large'],\n",
    "    'Texture': ['Smooth', 'Rough', 'Smooth', 'Rough', 'Rough', 'Smooth', 'Rough', 'Smooth', 'Smooth', 'Rough'],\n",
    "    'Weight': ['Light', 'Heavy', 'Heavy', 'Light', 'Light', 'Heavy', 'Heavy', 'Light', 'Heavy', 'Light'],\n",
    "    'Apple': ['Yes', 'No', 'Yes', 'No', 'Yes', 'No', 'Yes', 'No', 'Yes', 'No']\n",
    "}"
   ]
  },
  {
   "cell_type": "code",
   "execution_count": 5,
   "id": "17c868f7-e610-4ae4-ae26-121dcc14f45c",
   "metadata": {},
   "outputs": [],
   "source": [
    "df = pd.DataFrame(data)"
   ]
  },
  {
   "cell_type": "markdown",
   "id": "282bc03f-6576-4326-a24d-a9b8420700e4",
   "metadata": {},
   "source": [
    "categorical features"
   ]
  },
  {
   "cell_type": "code",
   "execution_count": 6,
   "id": "35e22bcd-0a01-4f01-a4d7-cf9056e06e1e",
   "metadata": {},
   "outputs": [],
   "source": [
    "label_encoders = {}\n",
    "for column in ['Color', 'Size', 'Texture', 'Weight']:\n",
    "    le = LabelEncoder()\n",
    "    df[column] = le.fit_transform(df[column])\n",
    "    label_encoders[column] = le"
   ]
  },
  {
   "cell_type": "code",
   "execution_count": 7,
   "id": "baaf30b3-b3d9-4af0-a7cb-4b4bc645a1d2",
   "metadata": {},
   "outputs": [],
   "source": [
    "df['Apple'] = df['Apple'].map({'Yes': 1, 'No': 0})"
   ]
  },
  {
   "cell_type": "code",
   "execution_count": 8,
   "id": "c02330d5-e2ea-46cc-8b0d-2cda4595dc31",
   "metadata": {},
   "outputs": [
    {
     "name": "stdout",
     "output_type": "stream",
     "text": [
      "   Color  Size  Texture  Weight  Apple\n",
      "0      1     1        1       1      1\n",
      "1      0     0        0       0      0\n",
      "2      1     0        1       0      1\n",
      "3      0     1        0       1      0\n",
      "4      1     1        0       1      1\n",
      "5      0     0        1       0      0\n",
      "6      1     0        0       0      1\n",
      "7      0     1        1       1      0\n",
      "8      1     1        1       0      1\n",
      "9      0     0        0       1      0\n"
     ]
    }
   ],
   "source": [
    "print(df)"
   ]
  },
  {
   "cell_type": "markdown",
   "id": "619fac0c-dafd-48b5-83d3-9fe92577463f",
   "metadata": {},
   "source": [
    "CAlculating priors and likelihoods"
   ]
  },
  {
   "cell_type": "code",
   "execution_count": 9,
   "id": "14fbf5d1-bad0-48ba-a017-d73ea1045b36",
   "metadata": {},
   "outputs": [],
   "source": [
    "def calculate_priors(df):\n",
    "    class_counts = df['Apple'].value_counts()\n",
    "    total_instances = len(df)\n",
    "    priors = class_counts / total_instances\n",
    "    return priors"
   ]
  },
  {
   "cell_type": "code",
   "execution_count": 10,
   "id": "2038d2e4-8170-44e0-84d9-19ac86393c2e",
   "metadata": {},
   "outputs": [],
   "source": [
    "def calculate_likelihoods(df):\n",
    "    means = df.groupby('Apple').mean()\n",
    "    variances = df.groupby('Apple').var()\n",
    "    return means, variances"
   ]
  },
  {
   "cell_type": "code",
   "execution_count": 11,
   "id": "d5028907-073f-427e-b0b3-92bac2b32931",
   "metadata": {},
   "outputs": [],
   "source": [
    "priors = calculate_priors(df)\n",
    "means, variances = calculate_likelihoods(df)"
   ]
  },
  {
   "cell_type": "code",
   "execution_count": 12,
   "id": "6f64a49c-16ed-4727-a571-9d14640137bc",
   "metadata": {},
   "outputs": [
    {
     "name": "stdout",
     "output_type": "stream",
     "text": [
      "Priors:\n",
      " Apple\n",
      "1    0.5\n",
      "0    0.5\n",
      "Name: count, dtype: float64\n",
      "Means:\n",
      "        Color  Size  Texture  Weight\n",
      "Apple                              \n",
      "0        0.0   0.4      0.4     0.6\n",
      "1        1.0   0.6      0.6     0.4\n",
      "Variances:\n",
      "        Color  Size  Texture  Weight\n",
      "Apple                              \n",
      "0        0.0   0.3      0.3     0.3\n",
      "1        0.0   0.3      0.3     0.3\n"
     ]
    }
   ],
   "source": [
    "print(\"Priors:\\n\", priors)\n",
    "print(\"Means:\\n\", means)\n",
    "print(\"Variances:\\n\", variances)"
   ]
  },
  {
   "cell_type": "markdown",
   "id": "89ab43ad-616f-4499-9ab7-44a551705873",
   "metadata": {},
   "source": [
    "posterior probabilities"
   ]
  },
  {
   "cell_type": "code",
   "execution_count": 13,
   "id": "de2f1235-f6b9-4f37-b7fe-3906d99ee389",
   "metadata": {},
   "outputs": [],
   "source": [
    "def calculate_posterior(instance, priors, means, variances):\n",
    "    posteriors = {}\n",
    "    for class_label in priors.index:\n",
    "        prior = priors[class_label]\n",
    "        likelihood = np.prod(norm.pdf(instance, loc=means.loc[class_label], scale=np.sqrt(variances.loc[class_label])))\n",
    "        posterior = prior * likelihood\n",
    "        posteriors[class_label] = posterior\n",
    "    return posteriors\n",
    "\n",
    "new_instance = [label_encoders['Color'].transform(['Red'])[0],\n",
    "                label_encoders['Size'].transform(['Small'])[0],\n",
    "                label_encoders['Texture'].transform(['Smooth'])[0],\n",
    "                label_encoders['Weight'].transform(['Light'])[0]]\n",
    "\n"
   ]
  },
  {
   "cell_type": "code",
   "execution_count": 14,
   "id": "a6cd4306-42fa-4b13-a6f4-aadc1477910b",
   "metadata": {},
   "outputs": [
    {
     "name": "stdout",
     "output_type": "stream",
     "text": [
      "Posteriors:\n",
      " {1: nan, 0: nan}\n"
     ]
    },
    {
     "name": "stderr",
     "output_type": "stream",
     "text": [
      "C:\\Users\\User\\AppData\\Local\\Programs\\Python\\Python312\\Lib\\site-packages\\scipy\\stats\\_distn_infrastructure.py:1988: RuntimeWarning: invalid value encountered in divide\n",
      "  x = np.asarray((x - loc)/scale, dtype=dtyp)\n",
      "C:\\Users\\User\\AppData\\Local\\Programs\\Python\\Python312\\Lib\\site-packages\\scipy\\stats\\_distn_infrastructure.py:1988: RuntimeWarning: divide by zero encountered in divide\n",
      "  x = np.asarray((x - loc)/scale, dtype=dtyp)\n"
     ]
    }
   ],
   "source": [
    "posteriors = calculate_posterior(new_instance, priors, means, variances)\n",
    "print(\"Posteriors:\\n\", posteriors)"
   ]
  },
  {
   "cell_type": "code",
   "execution_count": null,
   "id": "58ef439e-4e8e-4d81-8b78-9b6848f2eaa9",
   "metadata": {},
   "outputs": [],
   "source": []
  },
  {
   "cell_type": "code",
   "execution_count": null,
   "id": "32c4efaf-1faf-4b82-a79d-da3b253aa495",
   "metadata": {},
   "outputs": [],
   "source": []
  }
 ],
 "metadata": {
  "kernelspec": {
   "display_name": "Python 3 (ipykernel)",
   "language": "python",
   "name": "python3"
  },
  "language_info": {
   "codemirror_mode": {
    "name": "ipython",
    "version": 3
   },
   "file_extension": ".py",
   "mimetype": "text/x-python",
   "name": "python",
   "nbconvert_exporter": "python",
   "pygments_lexer": "ipython3",
   "version": "3.12.3"
  }
 },
 "nbformat": 4,
 "nbformat_minor": 5
}
